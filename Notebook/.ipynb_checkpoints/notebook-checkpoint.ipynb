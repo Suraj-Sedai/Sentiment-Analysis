{
 "cells": [
  {
   "cell_type": "markdown",
   "id": "feba380d-fd94-4798-97fc-5da74de02239",
   "metadata": {},
   "source": [
    "<h3>Data Geathering</h3>"
   ]
  },
  {
   "cell_type": "code",
   "execution_count": null,
   "id": "7e3522aa-8c0c-4b1e-9f24-53b43a75a4dd",
   "metadata": {},
   "outputs": [],
   "source": []
  }
 ],
 "metadata": {
  "kernelspec": {
   "display_name": "Python 3 (ipykernel)",
   "language": "python",
   "name": "python3"
  },
  "language_info": {
   "codemirror_mode": {
    "name": "ipython",
    "version": 3
   },
   "file_extension": ".py",
   "mimetype": "text/x-python",
   "name": "python",
   "nbconvert_exporter": "python",
   "pygments_lexer": "ipython3",
   "version": "3.11.2"
  }
 },
 "nbformat": 4,
 "nbformat_minor": 5
}
